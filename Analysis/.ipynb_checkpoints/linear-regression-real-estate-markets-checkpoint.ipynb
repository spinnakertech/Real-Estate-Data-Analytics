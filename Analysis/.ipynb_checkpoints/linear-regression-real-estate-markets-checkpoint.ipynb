{
 "cells": [
  {
   "cell_type": "code",
   "execution_count": 24,
   "metadata": {},
   "outputs": [],
   "source": [
    "#Import dependencies\n",
    "import pandas as pd\n",
    "from datetime import datetime\n",
    "import numpy as np\n",
    "%matplotlib inline\n",
    "import matplotlib.pyplot as plt"
   ]
  },
  {
   "cell_type": "code",
   "execution_count": 25,
   "metadata": {},
   "outputs": [],
   "source": [
    "# Load file\n",
    "machine_learning_data = '../data/machinelearningdata.csv'\n"
   ]
  },
  {
   "cell_type": "code",
   "execution_count": 26,
   "metadata": {
    "scrolled": false
   },
   "outputs": [
    {
     "data": {
      "text/html": [
       "<div>\n",
       "<style scoped>\n",
       "    .dataframe tbody tr th:only-of-type {\n",
       "        vertical-align: middle;\n",
       "    }\n",
       "\n",
       "    .dataframe tbody tr th {\n",
       "        vertical-align: top;\n",
       "    }\n",
       "\n",
       "    .dataframe thead th {\n",
       "        text-align: right;\n",
       "    }\n",
       "</style>\n",
       "<table border=\"1\" class=\"dataframe\">\n",
       "  <thead>\n",
       "    <tr style=\"text-align: right;\">\n",
       "      <th></th>\n",
       "      <th>Unnamed: 0</th>\n",
       "      <th>Year_Month</th>\n",
       "      <th>Housing_SA</th>\n",
       "      <th>Housing_Classification_SA</th>\n",
       "      <th>Mortgage_Rate</th>\n",
       "      <th>Housing_Price_Index_SA</th>\n",
       "      <th>Unemployment_Rate</th>\n",
       "      <th>Hourly_Wage</th>\n",
       "      <th>Real-GDP-Index</th>\n",
       "    </tr>\n",
       "  </thead>\n",
       "  <tbody>\n",
       "    <tr>\n",
       "      <th>0</th>\n",
       "      <td>0</td>\n",
       "      <td>2012-02</td>\n",
       "      <td>5.4</td>\n",
       "      <td>Buyer's Market</td>\n",
       "      <td>3.95</td>\n",
       "      <td>121.795906</td>\n",
       "      <td>8.3</td>\n",
       "      <td>23.27</td>\n",
       "      <td>16269.715</td>\n",
       "    </tr>\n",
       "    <tr>\n",
       "      <th>1</th>\n",
       "      <td>1</td>\n",
       "      <td>2012-03</td>\n",
       "      <td>5.6</td>\n",
       "      <td>Buyer's Market</td>\n",
       "      <td>3.99</td>\n",
       "      <td>122.349176</td>\n",
       "      <td>8.2</td>\n",
       "      <td>23.36</td>\n",
       "      <td>16083.637</td>\n",
       "    </tr>\n",
       "    <tr>\n",
       "      <th>2</th>\n",
       "      <td>2</td>\n",
       "      <td>2012-04</td>\n",
       "      <td>5.5</td>\n",
       "      <td>Buyer's Market</td>\n",
       "      <td>3.88</td>\n",
       "      <td>123.066985</td>\n",
       "      <td>8.2</td>\n",
       "      <td>23.39</td>\n",
       "      <td>16183.036</td>\n",
       "    </tr>\n",
       "    <tr>\n",
       "      <th>3</th>\n",
       "      <td>3</td>\n",
       "      <td>2012-05</td>\n",
       "      <td>5.3</td>\n",
       "      <td>Buyer's Market</td>\n",
       "      <td>3.75</td>\n",
       "      <td>123.850443</td>\n",
       "      <td>8.2</td>\n",
       "      <td>23.39</td>\n",
       "      <td>16222.008</td>\n",
       "    </tr>\n",
       "    <tr>\n",
       "      <th>4</th>\n",
       "      <td>4</td>\n",
       "      <td>2012-06</td>\n",
       "      <td>5.2</td>\n",
       "      <td>Buyer's Market</td>\n",
       "      <td>3.66</td>\n",
       "      <td>124.472366</td>\n",
       "      <td>8.2</td>\n",
       "      <td>23.46</td>\n",
       "      <td>16191.336</td>\n",
       "    </tr>\n",
       "    <tr>\n",
       "      <th>...</th>\n",
       "      <td>...</td>\n",
       "      <td>...</td>\n",
       "      <td>...</td>\n",
       "      <td>...</td>\n",
       "      <td>...</td>\n",
       "      <td>...</td>\n",
       "      <td>...</td>\n",
       "      <td>...</td>\n",
       "      <td>...</td>\n",
       "    </tr>\n",
       "    <tr>\n",
       "      <th>101</th>\n",
       "      <td>101</td>\n",
       "      <td>2020-07</td>\n",
       "      <td>1.9</td>\n",
       "      <td>Seller's Market</td>\n",
       "      <td>2.99</td>\n",
       "      <td>203.903803</td>\n",
       "      <td>10.2</td>\n",
       "      <td>29.35</td>\n",
       "      <td>18453.268</td>\n",
       "    </tr>\n",
       "    <tr>\n",
       "      <th>102</th>\n",
       "      <td>102</td>\n",
       "      <td>2020-08</td>\n",
       "      <td>1.8</td>\n",
       "      <td>Seller's Market</td>\n",
       "      <td>2.91</td>\n",
       "      <td>206.923037</td>\n",
       "      <td>8.4</td>\n",
       "      <td>29.45</td>\n",
       "      <td>18576.420</td>\n",
       "    </tr>\n",
       "    <tr>\n",
       "      <th>103</th>\n",
       "      <td>103</td>\n",
       "      <td>2020-09</td>\n",
       "      <td>1.6</td>\n",
       "      <td>Seller's Market</td>\n",
       "      <td>2.90</td>\n",
       "      <td>210.047846</td>\n",
       "      <td>7.8</td>\n",
       "      <td>29.47</td>\n",
       "      <td>18726.640</td>\n",
       "    </tr>\n",
       "    <tr>\n",
       "      <th>104</th>\n",
       "      <td>104</td>\n",
       "      <td>2020-10</td>\n",
       "      <td>1.5</td>\n",
       "      <td>Seller's Market</td>\n",
       "      <td>2.81</td>\n",
       "      <td>213.139427</td>\n",
       "      <td>6.9</td>\n",
       "      <td>29.49</td>\n",
       "      <td>18862.228</td>\n",
       "    </tr>\n",
       "    <tr>\n",
       "      <th>105</th>\n",
       "      <td>105</td>\n",
       "      <td>2020-11</td>\n",
       "      <td>1.5</td>\n",
       "      <td>Seller's Market</td>\n",
       "      <td>2.72</td>\n",
       "      <td>216.317308</td>\n",
       "      <td>6.7</td>\n",
       "      <td>29.58</td>\n",
       "      <td>NaN</td>\n",
       "    </tr>\n",
       "  </tbody>\n",
       "</table>\n",
       "<p>106 rows × 9 columns</p>\n",
       "</div>"
      ],
      "text/plain": [
       "     Unnamed: 0 Year_Month  Housing_SA Housing_Classification_SA  \\\n",
       "0             0    2012-02         5.4            Buyer's Market   \n",
       "1             1    2012-03         5.6            Buyer's Market   \n",
       "2             2    2012-04         5.5            Buyer's Market   \n",
       "3             3    2012-05         5.3            Buyer's Market   \n",
       "4             4    2012-06         5.2            Buyer's Market   \n",
       "..          ...        ...         ...                       ...   \n",
       "101         101    2020-07         1.9           Seller's Market   \n",
       "102         102    2020-08         1.8           Seller's Market   \n",
       "103         103    2020-09         1.6           Seller's Market   \n",
       "104         104    2020-10         1.5           Seller's Market   \n",
       "105         105    2020-11         1.5           Seller's Market   \n",
       "\n",
       "     Mortgage_Rate  Housing_Price_Index_SA  Unemployment_Rate  Hourly_Wage  \\\n",
       "0             3.95              121.795906                8.3        23.27   \n",
       "1             3.99              122.349176                8.2        23.36   \n",
       "2             3.88              123.066985                8.2        23.39   \n",
       "3             3.75              123.850443                8.2        23.39   \n",
       "4             3.66              124.472366                8.2        23.46   \n",
       "..             ...                     ...                ...          ...   \n",
       "101           2.99              203.903803               10.2        29.35   \n",
       "102           2.91              206.923037                8.4        29.45   \n",
       "103           2.90              210.047846                7.8        29.47   \n",
       "104           2.81              213.139427                6.9        29.49   \n",
       "105           2.72              216.317308                6.7        29.58   \n",
       "\n",
       "     Real-GDP-Index  \n",
       "0         16269.715  \n",
       "1         16083.637  \n",
       "2         16183.036  \n",
       "3         16222.008  \n",
       "4         16191.336  \n",
       "..              ...  \n",
       "101       18453.268  \n",
       "102       18576.420  \n",
       "103       18726.640  \n",
       "104       18862.228  \n",
       "105             NaN  \n",
       "\n",
       "[106 rows x 9 columns]"
      ]
     },
     "execution_count": 26,
     "metadata": {},
     "output_type": "execute_result"
    }
   ],
   "source": [
    "# Read the CSV into pandas\n",
    "real_estate_df = pd.read_csv(machine_learning_data)\n",
    "real_estate_df"
   ]
  },
  {
   "cell_type": "code",
   "execution_count": 27,
   "metadata": {},
   "outputs": [
    {
     "data": {
      "text/html": [
       "<div>\n",
       "<style scoped>\n",
       "    .dataframe tbody tr th:only-of-type {\n",
       "        vertical-align: middle;\n",
       "    }\n",
       "\n",
       "    .dataframe tbody tr th {\n",
       "        vertical-align: top;\n",
       "    }\n",
       "\n",
       "    .dataframe thead th {\n",
       "        text-align: right;\n",
       "    }\n",
       "</style>\n",
       "<table border=\"1\" class=\"dataframe\">\n",
       "  <thead>\n",
       "    <tr style=\"text-align: right;\">\n",
       "      <th></th>\n",
       "      <th>Unnamed: 0</th>\n",
       "      <th>Year_Month</th>\n",
       "      <th>Housing_SA</th>\n",
       "      <th>Housing_Classification_SA</th>\n",
       "      <th>Mortgage_Rate</th>\n",
       "      <th>Housing_Price_Index_SA</th>\n",
       "      <th>Unemployment_Rate</th>\n",
       "      <th>Hourly_Wage</th>\n",
       "      <th>Real-GDP-Index</th>\n",
       "    </tr>\n",
       "  </thead>\n",
       "  <tbody>\n",
       "    <tr>\n",
       "      <th>0</th>\n",
       "      <td>0</td>\n",
       "      <td>2012-02</td>\n",
       "      <td>5.4</td>\n",
       "      <td>Buyer's Market</td>\n",
       "      <td>3.95</td>\n",
       "      <td>121.795906</td>\n",
       "      <td>8.3</td>\n",
       "      <td>23.27</td>\n",
       "      <td>16269.715</td>\n",
       "    </tr>\n",
       "    <tr>\n",
       "      <th>1</th>\n",
       "      <td>1</td>\n",
       "      <td>2012-03</td>\n",
       "      <td>5.6</td>\n",
       "      <td>Buyer's Market</td>\n",
       "      <td>3.99</td>\n",
       "      <td>122.349176</td>\n",
       "      <td>8.2</td>\n",
       "      <td>23.36</td>\n",
       "      <td>16083.637</td>\n",
       "    </tr>\n",
       "    <tr>\n",
       "      <th>2</th>\n",
       "      <td>2</td>\n",
       "      <td>2012-04</td>\n",
       "      <td>5.5</td>\n",
       "      <td>Buyer's Market</td>\n",
       "      <td>3.88</td>\n",
       "      <td>123.066985</td>\n",
       "      <td>8.2</td>\n",
       "      <td>23.39</td>\n",
       "      <td>16183.036</td>\n",
       "    </tr>\n",
       "    <tr>\n",
       "      <th>3</th>\n",
       "      <td>3</td>\n",
       "      <td>2012-05</td>\n",
       "      <td>5.3</td>\n",
       "      <td>Buyer's Market</td>\n",
       "      <td>3.75</td>\n",
       "      <td>123.850443</td>\n",
       "      <td>8.2</td>\n",
       "      <td>23.39</td>\n",
       "      <td>16222.008</td>\n",
       "    </tr>\n",
       "    <tr>\n",
       "      <th>4</th>\n",
       "      <td>4</td>\n",
       "      <td>2012-06</td>\n",
       "      <td>5.2</td>\n",
       "      <td>Buyer's Market</td>\n",
       "      <td>3.66</td>\n",
       "      <td>124.472366</td>\n",
       "      <td>8.2</td>\n",
       "      <td>23.46</td>\n",
       "      <td>16191.336</td>\n",
       "    </tr>\n",
       "    <tr>\n",
       "      <th>...</th>\n",
       "      <td>...</td>\n",
       "      <td>...</td>\n",
       "      <td>...</td>\n",
       "      <td>...</td>\n",
       "      <td>...</td>\n",
       "      <td>...</td>\n",
       "      <td>...</td>\n",
       "      <td>...</td>\n",
       "      <td>...</td>\n",
       "    </tr>\n",
       "    <tr>\n",
       "      <th>100</th>\n",
       "      <td>100</td>\n",
       "      <td>2020-06</td>\n",
       "      <td>2.5</td>\n",
       "      <td>Seller's Market</td>\n",
       "      <td>3.13</td>\n",
       "      <td>201.322834</td>\n",
       "      <td>11.1</td>\n",
       "      <td>29.32</td>\n",
       "      <td>18160.219</td>\n",
       "    </tr>\n",
       "    <tr>\n",
       "      <th>101</th>\n",
       "      <td>101</td>\n",
       "      <td>2020-07</td>\n",
       "      <td>1.9</td>\n",
       "      <td>Seller's Market</td>\n",
       "      <td>2.99</td>\n",
       "      <td>203.903803</td>\n",
       "      <td>10.2</td>\n",
       "      <td>29.35</td>\n",
       "      <td>18453.268</td>\n",
       "    </tr>\n",
       "    <tr>\n",
       "      <th>102</th>\n",
       "      <td>102</td>\n",
       "      <td>2020-08</td>\n",
       "      <td>1.8</td>\n",
       "      <td>Seller's Market</td>\n",
       "      <td>2.91</td>\n",
       "      <td>206.923037</td>\n",
       "      <td>8.4</td>\n",
       "      <td>29.45</td>\n",
       "      <td>18576.420</td>\n",
       "    </tr>\n",
       "    <tr>\n",
       "      <th>103</th>\n",
       "      <td>103</td>\n",
       "      <td>2020-09</td>\n",
       "      <td>1.6</td>\n",
       "      <td>Seller's Market</td>\n",
       "      <td>2.90</td>\n",
       "      <td>210.047846</td>\n",
       "      <td>7.8</td>\n",
       "      <td>29.47</td>\n",
       "      <td>18726.640</td>\n",
       "    </tr>\n",
       "    <tr>\n",
       "      <th>104</th>\n",
       "      <td>104</td>\n",
       "      <td>2020-10</td>\n",
       "      <td>1.5</td>\n",
       "      <td>Seller's Market</td>\n",
       "      <td>2.81</td>\n",
       "      <td>213.139427</td>\n",
       "      <td>6.9</td>\n",
       "      <td>29.49</td>\n",
       "      <td>18862.228</td>\n",
       "    </tr>\n",
       "  </tbody>\n",
       "</table>\n",
       "<p>104 rows × 9 columns</p>\n",
       "</div>"
      ],
      "text/plain": [
       "     Unnamed: 0 Year_Month  Housing_SA Housing_Classification_SA  \\\n",
       "0             0    2012-02         5.4            Buyer's Market   \n",
       "1             1    2012-03         5.6            Buyer's Market   \n",
       "2             2    2012-04         5.5            Buyer's Market   \n",
       "3             3    2012-05         5.3            Buyer's Market   \n",
       "4             4    2012-06         5.2            Buyer's Market   \n",
       "..          ...        ...         ...                       ...   \n",
       "100         100    2020-06         2.5           Seller's Market   \n",
       "101         101    2020-07         1.9           Seller's Market   \n",
       "102         102    2020-08         1.8           Seller's Market   \n",
       "103         103    2020-09         1.6           Seller's Market   \n",
       "104         104    2020-10         1.5           Seller's Market   \n",
       "\n",
       "     Mortgage_Rate  Housing_Price_Index_SA  Unemployment_Rate  Hourly_Wage  \\\n",
       "0             3.95              121.795906                8.3        23.27   \n",
       "1             3.99              122.349176                8.2        23.36   \n",
       "2             3.88              123.066985                8.2        23.39   \n",
       "3             3.75              123.850443                8.2        23.39   \n",
       "4             3.66              124.472366                8.2        23.46   \n",
       "..             ...                     ...                ...          ...   \n",
       "100           3.13              201.322834               11.1        29.32   \n",
       "101           2.99              203.903803               10.2        29.35   \n",
       "102           2.91              206.923037                8.4        29.45   \n",
       "103           2.90              210.047846                7.8        29.47   \n",
       "104           2.81              213.139427                6.9        29.49   \n",
       "\n",
       "     Real-GDP-Index  \n",
       "0         16269.715  \n",
       "1         16083.637  \n",
       "2         16183.036  \n",
       "3         16222.008  \n",
       "4         16191.336  \n",
       "..              ...  \n",
       "100       18160.219  \n",
       "101       18453.268  \n",
       "102       18576.420  \n",
       "103       18726.640  \n",
       "104       18862.228  \n",
       "\n",
       "[104 rows x 9 columns]"
      ]
     },
     "execution_count": 27,
     "metadata": {},
     "output_type": "execute_result"
    }
   ],
   "source": [
    "real_estate_df=real_estate_df.dropna()\n",
    "real_estate_df"
   ]
  },
  {
   "cell_type": "code",
   "execution_count": 28,
   "metadata": {},
   "outputs": [],
   "source": [
    "# First Analysis is to see whether there is a linear relationship between Real Estate Market Classification and Mortgage Interest Rates"
   ]
  },
  {
   "cell_type": "code",
   "execution_count": 29,
   "metadata": {},
   "outputs": [
    {
     "name": "stdout",
     "output_type": "stream",
     "text": [
      "Shape:  (104, 5) (104, 1)\n"
     ]
    }
   ],
   "source": [
    "# Assign the data to X and y\n",
    "# Note: Sklearn requires a two-dimensional array of values so we use reshape to create this\n",
    "\n",
    "X = real_estate_df[[\"Mortgage_Rate\",\"Housing_Price_Index_SA\",\"Unemployment_Rate\",\"Hourly_Wage\",\"Real-GDP-Index\"]]\n",
    "y = real_estate_df[\"Housing_SA\"].values.reshape(-1, 1)\n",
    "\n",
    "print(\"Shape: \", X.shape, y.shape)"
   ]
  },
  {
   "cell_type": "code",
   "execution_count": 30,
   "metadata": {},
   "outputs": [
    {
     "data": {
      "text/html": [
       "<div>\n",
       "<style scoped>\n",
       "    .dataframe tbody tr th:only-of-type {\n",
       "        vertical-align: middle;\n",
       "    }\n",
       "\n",
       "    .dataframe tbody tr th {\n",
       "        vertical-align: top;\n",
       "    }\n",
       "\n",
       "    .dataframe thead th {\n",
       "        text-align: right;\n",
       "    }\n",
       "</style>\n",
       "<table border=\"1\" class=\"dataframe\">\n",
       "  <thead>\n",
       "    <tr style=\"text-align: right;\">\n",
       "      <th></th>\n",
       "      <th>Mortgage_Rate</th>\n",
       "      <th>Housing_Price_Index_SA</th>\n",
       "      <th>Unemployment_Rate</th>\n",
       "      <th>Hourly_Wage</th>\n",
       "      <th>Real-GDP-Index</th>\n",
       "    </tr>\n",
       "  </thead>\n",
       "  <tbody>\n",
       "    <tr>\n",
       "      <th>0</th>\n",
       "      <td>3.95</td>\n",
       "      <td>121.795906</td>\n",
       "      <td>8.3</td>\n",
       "      <td>23.27</td>\n",
       "      <td>16269.715</td>\n",
       "    </tr>\n",
       "    <tr>\n",
       "      <th>1</th>\n",
       "      <td>3.99</td>\n",
       "      <td>122.349176</td>\n",
       "      <td>8.2</td>\n",
       "      <td>23.36</td>\n",
       "      <td>16083.637</td>\n",
       "    </tr>\n",
       "    <tr>\n",
       "      <th>2</th>\n",
       "      <td>3.88</td>\n",
       "      <td>123.066985</td>\n",
       "      <td>8.2</td>\n",
       "      <td>23.39</td>\n",
       "      <td>16183.036</td>\n",
       "    </tr>\n",
       "    <tr>\n",
       "      <th>3</th>\n",
       "      <td>3.75</td>\n",
       "      <td>123.850443</td>\n",
       "      <td>8.2</td>\n",
       "      <td>23.39</td>\n",
       "      <td>16222.008</td>\n",
       "    </tr>\n",
       "    <tr>\n",
       "      <th>4</th>\n",
       "      <td>3.66</td>\n",
       "      <td>124.472366</td>\n",
       "      <td>8.2</td>\n",
       "      <td>23.46</td>\n",
       "      <td>16191.336</td>\n",
       "    </tr>\n",
       "    <tr>\n",
       "      <th>...</th>\n",
       "      <td>...</td>\n",
       "      <td>...</td>\n",
       "      <td>...</td>\n",
       "      <td>...</td>\n",
       "      <td>...</td>\n",
       "    </tr>\n",
       "    <tr>\n",
       "      <th>100</th>\n",
       "      <td>3.13</td>\n",
       "      <td>201.322834</td>\n",
       "      <td>11.1</td>\n",
       "      <td>29.32</td>\n",
       "      <td>18160.219</td>\n",
       "    </tr>\n",
       "    <tr>\n",
       "      <th>101</th>\n",
       "      <td>2.99</td>\n",
       "      <td>203.903803</td>\n",
       "      <td>10.2</td>\n",
       "      <td>29.35</td>\n",
       "      <td>18453.268</td>\n",
       "    </tr>\n",
       "    <tr>\n",
       "      <th>102</th>\n",
       "      <td>2.91</td>\n",
       "      <td>206.923037</td>\n",
       "      <td>8.4</td>\n",
       "      <td>29.45</td>\n",
       "      <td>18576.420</td>\n",
       "    </tr>\n",
       "    <tr>\n",
       "      <th>103</th>\n",
       "      <td>2.90</td>\n",
       "      <td>210.047846</td>\n",
       "      <td>7.8</td>\n",
       "      <td>29.47</td>\n",
       "      <td>18726.640</td>\n",
       "    </tr>\n",
       "    <tr>\n",
       "      <th>104</th>\n",
       "      <td>2.81</td>\n",
       "      <td>213.139427</td>\n",
       "      <td>6.9</td>\n",
       "      <td>29.49</td>\n",
       "      <td>18862.228</td>\n",
       "    </tr>\n",
       "  </tbody>\n",
       "</table>\n",
       "<p>104 rows × 5 columns</p>\n",
       "</div>"
      ],
      "text/plain": [
       "     Mortgage_Rate  Housing_Price_Index_SA  Unemployment_Rate  Hourly_Wage  \\\n",
       "0             3.95              121.795906                8.3        23.27   \n",
       "1             3.99              122.349176                8.2        23.36   \n",
       "2             3.88              123.066985                8.2        23.39   \n",
       "3             3.75              123.850443                8.2        23.39   \n",
       "4             3.66              124.472366                8.2        23.46   \n",
       "..             ...                     ...                ...          ...   \n",
       "100           3.13              201.322834               11.1        29.32   \n",
       "101           2.99              203.903803               10.2        29.35   \n",
       "102           2.91              206.923037                8.4        29.45   \n",
       "103           2.90              210.047846                7.8        29.47   \n",
       "104           2.81              213.139427                6.9        29.49   \n",
       "\n",
       "     Real-GDP-Index  \n",
       "0         16269.715  \n",
       "1         16083.637  \n",
       "2         16183.036  \n",
       "3         16222.008  \n",
       "4         16191.336  \n",
       "..              ...  \n",
       "100       18160.219  \n",
       "101       18453.268  \n",
       "102       18576.420  \n",
       "103       18726.640  \n",
       "104       18862.228  \n",
       "\n",
       "[104 rows x 5 columns]"
      ]
     },
     "execution_count": 30,
     "metadata": {},
     "output_type": "execute_result"
    }
   ],
   "source": [
    "X"
   ]
  },
  {
   "cell_type": "code",
   "execution_count": 31,
   "metadata": {},
   "outputs": [
    {
     "data": {
      "text/plain": [
       "array([[5.4],\n",
       "       [5.6],\n",
       "       [5.5],\n",
       "       [5.3],\n",
       "       [5.2],\n",
       "       [5.1],\n",
       "       [4.9],\n",
       "       [4.7],\n",
       "       [4.6],\n",
       "       [4.5],\n",
       "       [4.5],\n",
       "       [4.3],\n",
       "       [4.4],\n",
       "       [4.2],\n",
       "       [4.3],\n",
       "       [4.2],\n",
       "       [4.1],\n",
       "       [4.1],\n",
       "       [4.1],\n",
       "       [4.3],\n",
       "       [4.4],\n",
       "       [4.5],\n",
       "       [4.5],\n",
       "       [4.6],\n",
       "       [4.6],\n",
       "       [4.6],\n",
       "       [4.5],\n",
       "       [4.4],\n",
       "       [4.4],\n",
       "       [4.4],\n",
       "       [4.4],\n",
       "       [4.4],\n",
       "       [4.3],\n",
       "       [4.4],\n",
       "       [4.4],\n",
       "       [4.4],\n",
       "       [4.3],\n",
       "       [4.1],\n",
       "       [4.1],\n",
       "       [4. ],\n",
       "       [3.9],\n",
       "       [3.8],\n",
       "       [3.8],\n",
       "       [3.7],\n",
       "       [3.8],\n",
       "       [4.3],\n",
       "       [3.7],\n",
       "       [3.6],\n",
       "       [3.6],\n",
       "       [3.7],\n",
       "       [3.6],\n",
       "       [3.5],\n",
       "       [3.4],\n",
       "       [3.4],\n",
       "       [3.4],\n",
       "       [3.3],\n",
       "       [3.2],\n",
       "       [3.2],\n",
       "       [3.2],\n",
       "       [3.1],\n",
       "       [3.2],\n",
       "       [3.1],\n",
       "       [3. ],\n",
       "       [3. ],\n",
       "       [3. ],\n",
       "       [3. ],\n",
       "       [3. ],\n",
       "       [3. ],\n",
       "       [3. ],\n",
       "       [2.8],\n",
       "       [2.8],\n",
       "       [2.8],\n",
       "       [2.9],\n",
       "       [2.8],\n",
       "       [2.8],\n",
       "       [2.9],\n",
       "       [2.9],\n",
       "       [3. ],\n",
       "       [3.1],\n",
       "       [3.2],\n",
       "       [3.2],\n",
       "       [3.3],\n",
       "       [3.4],\n",
       "       [3.1],\n",
       "       [3.1],\n",
       "       [3. ],\n",
       "       [3. ],\n",
       "       [3. ],\n",
       "       [3. ],\n",
       "       [2.9],\n",
       "       [3. ],\n",
       "       [2.9],\n",
       "       [2.8],\n",
       "       [2.7],\n",
       "       [2.7],\n",
       "       [2.4],\n",
       "       [2.7],\n",
       "       [3.2],\n",
       "       [3.4],\n",
       "       [2.5],\n",
       "       [1.9],\n",
       "       [1.8],\n",
       "       [1.6],\n",
       "       [1.5]])"
      ]
     },
     "execution_count": 31,
     "metadata": {},
     "output_type": "execute_result"
    }
   ],
   "source": [
    "y"
   ]
  },
  {
   "cell_type": "code",
   "execution_count": 32,
   "metadata": {},
   "outputs": [],
   "source": [
    "# Plot the data to see if a linear trend exists\n",
    "\n",
    "#plt.scatter(X, y)\n",
    "#plt.xlabel(\"Housing Market Classification\")\n",
    "#plt.ylabel(\"Mortgage Interest Rates\")"
   ]
  },
  {
   "cell_type": "code",
   "execution_count": 33,
   "metadata": {},
   "outputs": [],
   "source": [
    "# Use sklearn's `train_test_split` to split the data into training and testing\n",
    "\n",
    "from sklearn.model_selection import train_test_split\n",
    "X_train, X_test, y_train, y_test = train_test_split(X, y, random_state=42)"
   ]
  },
  {
   "cell_type": "code",
   "execution_count": 34,
   "metadata": {},
   "outputs": [],
   "source": [
    "# Create the model\n",
    "\n",
    "from sklearn.linear_model import LinearRegression\n",
    "model = LinearRegression()"
   ]
  },
  {
   "cell_type": "code",
   "execution_count": 35,
   "metadata": {},
   "outputs": [],
   "source": [
    "# Scale the data so that each economic factor is in a similar range to the others\n",
    "# Standardize features by removing the mean and scaling to unit variance\n",
    "\n",
    "\n"
   ]
  },
  {
   "cell_type": "code",
   "execution_count": null,
   "metadata": {},
   "outputs": [],
   "source": []
  },
  {
   "cell_type": "code",
   "execution_count": 36,
   "metadata": {},
   "outputs": [
    {
     "data": {
      "text/plain": [
       "LinearRegression()"
      ]
     },
     "execution_count": 36,
     "metadata": {},
     "output_type": "execute_result"
    }
   ],
   "source": [
    "# Fit the model to the training data. \n",
    "model.fit(X_train, y_train)"
   ]
  },
  {
   "cell_type": "code",
   "execution_count": 37,
   "metadata": {},
   "outputs": [
    {
     "data": {
      "text/plain": [
       "Text(0.5, 1.0, 'Residual Plot')"
      ]
     },
     "execution_count": 37,
     "metadata": {},
     "output_type": "execute_result"
    },
    {
     "data": {
      "image/png": "[encoded data removed]",
      "text/plain": [
       "<Figure size 432x288 with 1 Axes>"
      ]
     },
     "metadata": {
      "needs_background": "light"
     },
     "output_type": "display_data"
    }
   ],
   "source": [
    "# Plot the Residuals for the Training and Testing data\n",
    "\n",
    "plt.scatter(model.predict(X_train), model.predict(X_train) - y_train, c=\"blue\", label=\"Training Data\")\n",
    "plt.scatter(model.predict(X_test), model.predict(X_test) - y_test, c=\"orange\", label=\"Testing Data\")\n",
    "plt.legend()\n",
    "plt.hlines(y=0, xmin=y.min(), xmax=y.max())\n",
    "plt.title(\"Residual Plot\")"
   ]
  },
  {
   "cell_type": "code",
   "execution_count": 63,
   "metadata": {},
   "outputs": [],
   "source": [
    "plt.show()"
   ]
  },
  {
   "cell_type": "code",
   "execution_count": 64,
   "metadata": {},
   "outputs": [
    {
     "data": {
      "text/plain": [
       "<Figure size 432x288 with 0 Axes>"
      ]
     },
     "metadata": {},
     "output_type": "display_data"
    }
   ],
   "source": [
    "plt.savefig('train-test-plot.jpg')"
   ]
  },
  {
   "cell_type": "code",
   "execution_count": 40,
   "metadata": {},
   "outputs": [
    {
     "name": "stdout",
     "output_type": "stream",
     "text": [
      "Mean Squared Error (MSE): 0.0544552239898414\n",
      "R-squared (R2 ): 0.9152896460393668\n"
     ]
    }
   ],
   "source": [
    "# Calculate the mean_squared_error and the r-squared value\n",
    "# for the testing data\n",
    "\n",
    "from sklearn.metrics import mean_squared_error, r2_score\n",
    "\n",
    "# Use our model to make predictions\n",
    "predicted = model.predict(X_test)\n",
    "\n",
    "# Score the predictions with mse and r2\n",
    "mse = mean_squared_error(y_test, predicted)\n",
    "r2 = r2_score(y_test, predicted)\n",
    "\n",
    "print(f\"Mean Squared Error (MSE): {mse}\")\n",
    "print(f\"R-squared (R2 ): {r2}\")\n"
   ]
  },
  {
   "cell_type": "code",
   "execution_count": 41,
   "metadata": {},
   "outputs": [
    {
     "data": {
      "text/plain": [
       "0.9152896460393668"
      ]
     },
     "execution_count": 41,
     "metadata": {},
     "output_type": "execute_result"
    }
   ],
   "source": [
    "# Call the `score` method on the model to show the r2 score\n",
    "\n",
    "model.score(X_test, y_test)"
   ]
  },
  {
   "cell_type": "code",
   "execution_count": null,
   "metadata": {},
   "outputs": [],
   "source": []
  },
  {
   "cell_type": "code",
   "execution_count": 42,
   "metadata": {},
   "outputs": [
    {
     "data": {
      "text/html": [
       "<div>\n",
       "<style scoped>\n",
       "    .dataframe tbody tr th:only-of-type {\n",
       "        vertical-align: middle;\n",
       "    }\n",
       "\n",
       "    .dataframe tbody tr th {\n",
       "        vertical-align: top;\n",
       "    }\n",
       "\n",
       "    .dataframe thead th {\n",
       "        text-align: right;\n",
       "    }\n",
       "</style>\n",
       "<table border=\"1\" class=\"dataframe\">\n",
       "  <thead>\n",
       "    <tr style=\"text-align: right;\">\n",
       "      <th></th>\n",
       "      <th>Mortgage_Rate</th>\n",
       "      <th>Housing_Price_Index_SA</th>\n",
       "      <th>Unemployment_Rate</th>\n",
       "      <th>Hourly_Wage</th>\n",
       "      <th>Real-GDP-Index</th>\n",
       "    </tr>\n",
       "  </thead>\n",
       "  <tbody>\n",
       "    <tr>\n",
       "      <th>30</th>\n",
       "      <td>4.10</td>\n",
       "      <td>146.660085</td>\n",
       "      <td>6.1</td>\n",
       "      <td>24.55</td>\n",
       "      <td>17100.905</td>\n",
       "    </tr>\n",
       "    <tr>\n",
       "      <th>65</th>\n",
       "      <td>3.92</td>\n",
       "      <td>174.350012</td>\n",
       "      <td>4.3</td>\n",
       "      <td>26.36</td>\n",
       "      <td>18125.425</td>\n",
       "    </tr>\n",
       "    <tr>\n",
       "      <th>64</th>\n",
       "      <td>3.88</td>\n",
       "      <td>173.426786</td>\n",
       "      <td>4.3</td>\n",
       "      <td>26.27</td>\n",
       "      <td>18150.608</td>\n",
       "    </tr>\n",
       "    <tr>\n",
       "      <th>53</th>\n",
       "      <td>3.48</td>\n",
       "      <td>163.487255</td>\n",
       "      <td>4.8</td>\n",
       "      <td>25.70</td>\n",
       "      <td>17649.256</td>\n",
       "    </tr>\n",
       "    <tr>\n",
       "      <th>45</th>\n",
       "      <td>3.95</td>\n",
       "      <td>157.537734</td>\n",
       "      <td>5.1</td>\n",
       "      <td>25.24</td>\n",
       "      <td>17476.535</td>\n",
       "    </tr>\n",
       "    <tr>\n",
       "      <th>94</th>\n",
       "      <td>3.74</td>\n",
       "      <td>196.224206</td>\n",
       "      <td>3.6</td>\n",
       "      <td>28.37</td>\n",
       "      <td>19283.297</td>\n",
       "    </tr>\n",
       "    <tr>\n",
       "      <th>92</th>\n",
       "      <td>3.78</td>\n",
       "      <td>194.357236</td>\n",
       "      <td>3.6</td>\n",
       "      <td>28.24</td>\n",
       "      <td>19244.068</td>\n",
       "    </tr>\n",
       "    <tr>\n",
       "      <th>47</th>\n",
       "      <td>3.79</td>\n",
       "      <td>158.870326</td>\n",
       "      <td>4.8</td>\n",
       "      <td>25.36</td>\n",
       "      <td>17571.328</td>\n",
       "    </tr>\n",
       "    <tr>\n",
       "      <th>10</th>\n",
       "      <td>3.35</td>\n",
       "      <td>129.387125</td>\n",
       "      <td>7.9</td>\n",
       "      <td>23.73</td>\n",
       "      <td>16328.158</td>\n",
       "    </tr>\n",
       "    <tr>\n",
       "      <th>0</th>\n",
       "      <td>3.95</td>\n",
       "      <td>121.795906</td>\n",
       "      <td>8.3</td>\n",
       "      <td>23.27</td>\n",
       "      <td>16269.715</td>\n",
       "    </tr>\n",
       "    <tr>\n",
       "      <th>18</th>\n",
       "      <td>4.51</td>\n",
       "      <td>139.434122</td>\n",
       "      <td>7.2</td>\n",
       "      <td>24.03</td>\n",
       "      <td>16556.245</td>\n",
       "    </tr>\n",
       "    <tr>\n",
       "      <th>31</th>\n",
       "      <td>4.20</td>\n",
       "      <td>147.198568</td>\n",
       "      <td>5.9</td>\n",
       "      <td>24.56</td>\n",
       "      <td>17035.744</td>\n",
       "    </tr>\n",
       "    <tr>\n",
       "      <th>89</th>\n",
       "      <td>3.75</td>\n",
       "      <td>192.121371</td>\n",
       "      <td>3.6</td>\n",
       "      <td>28.05</td>\n",
       "      <td>19133.548</td>\n",
       "    </tr>\n",
       "    <tr>\n",
       "      <th>96</th>\n",
       "      <td>3.45</td>\n",
       "      <td>198.964145</td>\n",
       "      <td>3.5</td>\n",
       "      <td>28.52</td>\n",
       "      <td>19404.558</td>\n",
       "    </tr>\n",
       "    <tr>\n",
       "      <th>78</th>\n",
       "      <td>4.52</td>\n",
       "      <td>185.843062</td>\n",
       "      <td>3.8</td>\n",
       "      <td>27.22</td>\n",
       "      <td>18782.429</td>\n",
       "    </tr>\n",
       "    <tr>\n",
       "      <th>4</th>\n",
       "      <td>3.66</td>\n",
       "      <td>124.472366</td>\n",
       "      <td>8.2</td>\n",
       "      <td>23.46</td>\n",
       "      <td>16191.336</td>\n",
       "    </tr>\n",
       "    <tr>\n",
       "      <th>81</th>\n",
       "      <td>4.81</td>\n",
       "      <td>187.787518</td>\n",
       "      <td>3.8</td>\n",
       "      <td>27.44</td>\n",
       "      <td>18777.559</td>\n",
       "    </tr>\n",
       "    <tr>\n",
       "      <th>33</th>\n",
       "      <td>3.97</td>\n",
       "      <td>148.620169</td>\n",
       "      <td>5.8</td>\n",
       "      <td>24.65</td>\n",
       "      <td>17154.007</td>\n",
       "    </tr>\n",
       "    <tr>\n",
       "      <th>12</th>\n",
       "      <td>3.51</td>\n",
       "      <td>131.833955</td>\n",
       "      <td>7.7</td>\n",
       "      <td>23.77</td>\n",
       "      <td>16315.025</td>\n",
       "    </tr>\n",
       "    <tr>\n",
       "      <th>26</th>\n",
       "      <td>4.33</td>\n",
       "      <td>144.713774</td>\n",
       "      <td>6.2</td>\n",
       "      <td>24.34</td>\n",
       "      <td>16774.072</td>\n",
       "    </tr>\n",
       "    <tr>\n",
       "      <th>99</th>\n",
       "      <td>3.15</td>\n",
       "      <td>199.923882</td>\n",
       "      <td>13.3</td>\n",
       "      <td>29.70</td>\n",
       "      <td>17234.898</td>\n",
       "    </tr>\n",
       "    <tr>\n",
       "      <th>55</th>\n",
       "      <td>3.42</td>\n",
       "      <td>165.196845</td>\n",
       "      <td>5.0</td>\n",
       "      <td>25.77</td>\n",
       "      <td>17869.614</td>\n",
       "    </tr>\n",
       "    <tr>\n",
       "      <th>22</th>\n",
       "      <td>4.48</td>\n",
       "      <td>142.206608</td>\n",
       "      <td>6.7</td>\n",
       "      <td>24.17</td>\n",
       "      <td>16666.567</td>\n",
       "    </tr>\n",
       "    <tr>\n",
       "      <th>77</th>\n",
       "      <td>4.54</td>\n",
       "      <td>185.228983</td>\n",
       "      <td>3.8</td>\n",
       "      <td>27.11</td>\n",
       "      <td>18702.889</td>\n",
       "    </tr>\n",
       "    <tr>\n",
       "      <th>44</th>\n",
       "      <td>3.76</td>\n",
       "      <td>156.719302</td>\n",
       "      <td>5.0</td>\n",
       "      <td>25.19</td>\n",
       "      <td>17540.540</td>\n",
       "    </tr>\n",
       "    <tr>\n",
       "      <th>72</th>\n",
       "      <td>4.40</td>\n",
       "      <td>181.791459</td>\n",
       "      <td>4.1</td>\n",
       "      <td>26.75</td>\n",
       "      <td>18559.548</td>\n",
       "    </tr>\n",
       "  </tbody>\n",
       "</table>\n",
       "</div>"
      ],
      "text/plain": [
       "    Mortgage_Rate  Housing_Price_Index_SA  Unemployment_Rate  Hourly_Wage  \\\n",
       "30           4.10              146.660085                6.1        24.55   \n",
       "65           3.92              174.350012                4.3        26.36   \n",
       "64           3.88              173.426786                4.3        26.27   \n",
       "53           3.48              163.487255                4.8        25.70   \n",
       "45           3.95              157.537734                5.1        25.24   \n",
       "94           3.74              196.224206                3.6        28.37   \n",
       "92           3.78              194.357236                3.6        28.24   \n",
       "47           3.79              158.870326                4.8        25.36   \n",
       "10           3.35              129.387125                7.9        23.73   \n",
       "0            3.95              121.795906                8.3        23.27   \n",
       "18           4.51              139.434122                7.2        24.03   \n",
       "31           4.20              147.198568                5.9        24.56   \n",
       "89           3.75              192.121371                3.6        28.05   \n",
       "96           3.45              198.964145                3.5        28.52   \n",
       "78           4.52              185.843062                3.8        27.22   \n",
       "4            3.66              124.472366                8.2        23.46   \n",
       "81           4.81              187.787518                3.8        27.44   \n",
       "33           3.97              148.620169                5.8        24.65   \n",
       "12           3.51              131.833955                7.7        23.77   \n",
       "26           4.33              144.713774                6.2        24.34   \n",
       "99           3.15              199.923882               13.3        29.70   \n",
       "55           3.42              165.196845                5.0        25.77   \n",
       "22           4.48              142.206608                6.7        24.17   \n",
       "77           4.54              185.228983                3.8        27.11   \n",
       "44           3.76              156.719302                5.0        25.19   \n",
       "72           4.40              181.791459                4.1        26.75   \n",
       "\n",
       "    Real-GDP-Index  \n",
       "30       17100.905  \n",
       "65       18125.425  \n",
       "64       18150.608  \n",
       "53       17649.256  \n",
       "45       17476.535  \n",
       "94       19283.297  \n",
       "92       19244.068  \n",
       "47       17571.328  \n",
       "10       16328.158  \n",
       "0        16269.715  \n",
       "18       16556.245  \n",
       "31       17035.744  \n",
       "89       19133.548  \n",
       "96       19404.558  \n",
       "78       18782.429  \n",
       "4        16191.336  \n",
       "81       18777.559  \n",
       "33       17154.007  \n",
       "12       16315.025  \n",
       "26       16774.072  \n",
       "99       17234.898  \n",
       "55       17869.614  \n",
       "22       16666.567  \n",
       "77       18702.889  \n",
       "44       17540.540  \n",
       "72       18559.548  "
      ]
     },
     "execution_count": 42,
     "metadata": {},
     "output_type": "execute_result"
    }
   ],
   "source": [
    "X_test"
   ]
  },
  {
   "cell_type": "code",
   "execution_count": 65,
   "metadata": {},
   "outputs": [],
   "source": [
    "# January 2020 Numbers:\n",
    "# [[3.51,197.36,3.5,28.43,19263.831]]\n",
    "# January 2020 Market Month's Supply: 2.7"
   ]
  },
  {
   "cell_type": "code",
   "execution_count": 70,
   "metadata": {},
   "outputs": [
    {
     "data": {
      "text/plain": [
       "[[3.51, 197.36, 1, 28.43, 19263.831]]"
      ]
     },
     "execution_count": 70,
     "metadata": {},
     "output_type": "execute_result"
    }
   ],
   "source": [
    "# Change Unemployment Rate to 20%\n",
    "New_Unemployment_df=[[3.51,197.36,1,28.43,19263.831]]\n",
    "New_Unemployment_df"
   ]
  },
  {
   "cell_type": "code",
   "execution_count": 71,
   "metadata": {},
   "outputs": [
    {
     "data": {
      "text/plain": [
       "array([[3.01258285]])"
      ]
     },
     "execution_count": 71,
     "metadata": {},
     "output_type": "execute_result"
    }
   ],
   "source": [
    "# Use our model to make predictions\n",
    "model.predict(New_Unemployment_df)"
   ]
  },
  {
   "cell_type": "code",
   "execution_count": null,
   "metadata": {},
   "outputs": [],
   "source": []
  },
  {
   "cell_type": "code",
   "execution_count": 81,
   "metadata": {},
   "outputs": [
    {
     "data": {
      "text/plain": [
       "[[3.51, 197.36, 3.5, 28.43, 9000]]"
      ]
     },
     "execution_count": 81,
     "metadata": {},
     "output_type": "execute_result"
    }
   ],
   "source": [
    "New_GDP_df=[[3.51,197.36,3.5,28.43,9000]]\n",
    "New_GDP_df"
   ]
  },
  {
   "cell_type": "code",
   "execution_count": 82,
   "metadata": {},
   "outputs": [
    {
     "data": {
      "text/plain": [
       "array([[4.00123856]])"
      ]
     },
     "execution_count": 82,
     "metadata": {},
     "output_type": "execute_result"
    }
   ],
   "source": [
    "model.predict(New_GDP_df)"
   ]
  },
  {
   "cell_type": "code",
   "execution_count": null,
   "metadata": {},
   "outputs": [],
   "source": []
  },
  {
   "cell_type": "code",
   "execution_count": 79,
   "metadata": {},
   "outputs": [
    {
     "data": {
      "text/plain": [
       "[[10, 197.36, 3.5, 28.43, 19263.831]]"
      ]
     },
     "execution_count": 79,
     "metadata": {},
     "output_type": "execute_result"
    }
   ],
   "source": [
    "New_morgage_df=[[10,197.36,3.5,28.43,19263.831]]\n",
    "New_morgage_df"
   ]
  },
  {
   "cell_type": "code",
   "execution_count": 80,
   "metadata": {},
   "outputs": [
    {
     "data": {
      "text/plain": [
       "array([[5.54281547]])"
      ]
     },
     "execution_count": 80,
     "metadata": {},
     "output_type": "execute_result"
    }
   ],
   "source": [
    "model.predict(New_morgage_df)"
   ]
  },
  {
   "cell_type": "code",
   "execution_count": null,
   "metadata": {},
   "outputs": [],
   "source": []
  },
  {
   "cell_type": "code",
   "execution_count": 28,
   "metadata": {},
   "outputs": [],
   "source": [
    "# Next Analysis is to see whether there is a linear relationship between Real Estate Market Classification and Housing Price Index"
   ]
  },
  {
   "cell_type": "code",
   "execution_count": 29,
   "metadata": {},
   "outputs": [
    {
     "name": "stdout",
     "output_type": "stream",
     "text": [
      "Shape:  (106, 1) (106, 1)\n"
     ]
    }
   ],
   "source": [
    "# Assign the data to X and y\n",
    "# Note: Sklearn requires a two-dimensional array of values so we use reshape to create this\n",
    "\n",
    "X = real_estate_df[\"Housing_SA\"].values.reshape(-1, 1)\n",
    "y = real_estate_df[\"Housing_Price_Index_SA\"].values.reshape(-1, 1)\n",
    "\n",
    "print(\"Shape: \", X.shape, y.shape)"
   ]
  },
  {
   "cell_type": "code",
   "execution_count": 30,
   "metadata": {},
   "outputs": [
    {
     "data": {
      "text/plain": [
       "Text(0, 0.5, 'Housing Price Index')"
      ]
     },
     "execution_count": 30,
     "metadata": {},
     "output_type": "execute_result"
    },
    {
     "data": {
      "image/png": "[encoded data removed]",
      "text/plain": [
       "<Figure size 432x288 with 1 Axes>"
      ]
     },
     "metadata": {
      "needs_background": "light"
     },
     "output_type": "display_data"
    }
   ],
   "source": [
    "# Plot the data to see if a linear trend exists\n",
    "\n",
    "plt.scatter(X, y)\n",
    "plt.xlabel(\"Housing Market Classification\")\n",
    "plt.ylabel(\"Housing Price Index\")"
   ]
  },
  {
   "cell_type": "code",
   "execution_count": 31,
   "metadata": {},
   "outputs": [],
   "source": [
    "# Use sklearn's `train_test_split` to split the data into training and testing\n",
    "\n",
    "from sklearn.model_selection import train_test_split\n",
    "X_train, X_test, y_train, y_test = train_test_split(X, y, random_state=42)"
   ]
  },
  {
   "cell_type": "code",
   "execution_count": 32,
   "metadata": {},
   "outputs": [],
   "source": [
    "# Create the model\n",
    "\n",
    "from sklearn.linear_model import LinearRegression\n",
    "model = LinearRegression()"
   ]
  },
  {
   "cell_type": "code",
   "execution_count": 33,
   "metadata": {},
   "outputs": [
    {
     "data": {
      "text/plain": [
       "LinearRegression()"
      ]
     },
     "execution_count": 33,
     "metadata": {},
     "output_type": "execute_result"
    }
   ],
   "source": [
    "# Fit the model to the training data. \n",
    "model.fit(X_train, y_train)"
   ]
  },
  {
   "cell_type": "code",
   "execution_count": 34,
   "metadata": {},
   "outputs": [
    {
     "name": "stdout",
     "output_type": "stream",
     "text": [
      "Mean Squared Error (MSE): 68.9336911445384\n",
      "R-squared (R2 ): 0.8761450447442531\n"
     ]
    }
   ],
   "source": [
    "# Calculate the mean_squared_error and the r-squared value\n",
    "# for the testing data\n",
    "\n",
    "from sklearn.metrics import mean_squared_error, r2_score\n",
    "\n",
    "# Use our model to make predictions\n",
    "predicted = model.predict(X_test)\n",
    "\n",
    "# Score the predictions with mse and r2\n",
    "mse = mean_squared_error(y_test, predicted)\n",
    "r2 = r2_score(y_test, predicted)\n",
    "\n",
    "print(f\"Mean Squared Error (MSE): {mse}\")\n",
    "print(f\"R-squared (R2 ): {r2}\")"
   ]
  },
  {
   "cell_type": "code",
   "execution_count": 35,
   "metadata": {},
   "outputs": [
    {
     "data": {
      "text/plain": [
       "0.8761450447442531"
      ]
     },
     "execution_count": 35,
     "metadata": {},
     "output_type": "execute_result"
    }
   ],
   "source": [
    "# Call the `score` method on the model to show the r2 score\n",
    "\n",
    "model.score(X_test, y_test)"
   ]
  },
  {
   "cell_type": "code",
   "execution_count": 36,
   "metadata": {},
   "outputs": [
    {
     "name": "stdout",
     "output_type": "stream",
     "text": [
      "Training Score: 0.8744361185240841\n",
      "Testing Score: 0.8761450447442531\n"
     ]
    }
   ],
   "source": [
    "# Fit the model to the training data and calculate the scores for the training and testing data\n",
    "\n",
    "model.fit(X_train, y_train)\n",
    "training_score = model.score(X_train, y_train)\n",
    "testing_score = model.score(X_test, y_test)\n",
    "\n",
    "print(f\"Training Score: {training_score}\")\n",
    "print(f\"Testing Score: {testing_score}\")"
   ]
  },
  {
   "cell_type": "code",
   "execution_count": 37,
   "metadata": {},
   "outputs": [
    {
     "data": {
      "text/plain": [
       "Text(0.5, 1.0, 'Residual Plot')"
      ]
     },
     "execution_count": 37,
     "metadata": {},
     "output_type": "execute_result"
    },
    {
     "data": {
      "image/png": "[encoded data removed]",
      "text/plain": [
       "<Figure size 432x288 with 1 Axes>"
      ]
     },
     "metadata": {
      "needs_background": "light"
     },
     "output_type": "display_data"
    }
   ],
   "source": [
    "# Plot the Residuals for the Training and Testing data\n",
    "\n",
    "plt.scatter(model.predict(X_train), model.predict(X_train) - y_train, c=\"blue\", label=\"Training Data\")\n",
    "plt.scatter(model.predict(X_test), model.predict(X_test) - y_test, c=\"orange\", label=\"Testing Data\")\n",
    "plt.legend()\n",
    "plt.hlines(y=0, xmin=y.min(), xmax=y.max())\n",
    "plt.title(\"Residual Plot\")"
   ]
  },
  {
   "cell_type": "code",
   "execution_count": null,
   "metadata": {},
   "outputs": [],
   "source": []
  },
  {
   "cell_type": "code",
   "execution_count": 17,
   "metadata": {},
   "outputs": [],
   "source": [
    "# Next Analysis is to see whether there is a linear relationship between Real Estate Market Classification and Unemployment Rate"
   ]
  },
  {
   "cell_type": "code",
   "execution_count": 18,
   "metadata": {},
   "outputs": [
    {
     "name": "stdout",
     "output_type": "stream",
     "text": [
      "Shape:  (106, 1) (106, 1)\n"
     ]
    }
   ],
   "source": [
    "# Assign the data to X and y\n",
    "# Note: Sklearn requires a two-dimensional array of values so we use reshape to create this\n",
    "\n",
    "X = real_estate_df[\"Housing_SA\"].values.reshape(-1, 1)\n",
    "y = real_estate_df[\"Unemployment_Rate\"].values.reshape(-1, 1)\n",
    "\n",
    "print(\"Shape: \", X.shape, y.shape)"
   ]
  },
  {
   "cell_type": "code",
   "execution_count": 19,
   "metadata": {},
   "outputs": [
    {
     "data": {
      "text/plain": [
       "Text(0, 0.5, 'Unemployment Rate')"
      ]
     },
     "execution_count": 19,
     "metadata": {},
     "output_type": "execute_result"
    },
    {
     "data": {
      "image/png": "[encoded data removed]",
      "text/plain": [
       "<Figure size 432x288 with 1 Axes>"
      ]
     },
     "metadata": {
      "needs_background": "light"
     },
     "output_type": "display_data"
    }
   ],
   "source": [
    "# Plot the data to see if a linear trend exists\n",
    "\n",
    "plt.scatter(X, y)\n",
    "plt.xlabel(\"Housing Market Classification\")\n",
    "plt.ylabel(\"Unemployment Rate\")"
   ]
  },
  {
   "cell_type": "code",
   "execution_count": null,
   "metadata": {},
   "outputs": [],
   "source": [
    "# Next Analysis is to see whether there is a linear relationship between Real Estate Market Classification and Hourly Wage"
   ]
  },
  {
   "cell_type": "code",
   "execution_count": null,
   "metadata": {},
   "outputs": [],
   "source": [
    "# Assign the data to X and y\n",
    "# Note: Sklearn requires a two-dimensional array of values so we use reshape to create this\n",
    "\n",
    "X = real_estate_df[\"Housing_SA\"].values.reshape(-1, 1)\n",
    "y = real_estate_df[\"Hourly_Wage\"].values.reshape(-1, 1)\n",
    "\n",
    "print(\"Shape: \", X.shape, y.shape)"
   ]
  },
  {
   "cell_type": "code",
   "execution_count": null,
   "metadata": {},
   "outputs": [],
   "source": [
    "# Plot the data to see if a linear trend exists\n",
    "\n",
    "plt.scatter(X, y)\n",
    "plt.xlabel(\"Housing Market Classification\")\n",
    "plt.ylabel(\"Average US Hourly Wage\")"
   ]
  },
  {
   "cell_type": "code",
   "execution_count": null,
   "metadata": {},
   "outputs": [],
   "source": [
    "# Use sklearn's `train_test_split` to split the data into training and testing\n",
    "\n",
    "from sklearn.model_selection import train_test_split\n",
    "X_train, X_test, y_train, y_test = train_test_split(X, y, random_state=42)"
   ]
  },
  {
   "cell_type": "code",
   "execution_count": null,
   "metadata": {},
   "outputs": [],
   "source": [
    "# Create the model\n",
    "\n",
    "from sklearn.linear_model import LinearRegression\n",
    "model = LinearRegression()"
   ]
  },
  {
   "cell_type": "code",
   "execution_count": null,
   "metadata": {},
   "outputs": [],
   "source": [
    "X_train"
   ]
  },
  {
   "cell_type": "code",
   "execution_count": null,
   "metadata": {},
   "outputs": [],
   "source": [
    "y_train"
   ]
  },
  {
   "cell_type": "code",
   "execution_count": null,
   "metadata": {},
   "outputs": [],
   "source": [
    "# Fit the model to the training data. \n",
    "model.fit(X_train, y_train)"
   ]
  },
  {
   "cell_type": "code",
   "execution_count": null,
   "metadata": {},
   "outputs": [],
   "source": []
  },
  {
   "cell_type": "code",
   "execution_count": null,
   "metadata": {},
   "outputs": [],
   "source": [
    "# Next Analysis is to see whether there is a linear relationship between Real Estate Market Classification and Gross Domestic Product"
   ]
  },
  {
   "cell_type": "code",
   "execution_count": null,
   "metadata": {},
   "outputs": [],
   "source": [
    "# Assign the data to X and y\n",
    "# Note: Sklearn requires a two-dimensional array of values so we use reshape to create this\n",
    "\n",
    "X = real_estate_df[\"Housing_SA\"].values.reshape(-1, 1)\n",
    "y = real_estate_df[\"Real-GDP-Index\"].values.reshape(-1, 1)\n",
    "\n",
    "print(\"Shape: \", X.shape, y.shape)"
   ]
  },
  {
   "cell_type": "code",
   "execution_count": null,
   "metadata": {},
   "outputs": [],
   "source": [
    "# Plot the data to see if a linear trend exists\n",
    "\n",
    "plt.scatter(X, y)\n",
    "plt.xlabel(\"Housing Market Classification\")\n",
    "plt.ylabel(\"Gross Domestic Product (Adjusted for Inflation)\")"
   ]
  },
  {
   "cell_type": "code",
   "execution_count": null,
   "metadata": {},
   "outputs": [],
   "source": []
  },
  {
   "cell_type": "code",
   "execution_count": null,
   "metadata": {},
   "outputs": [],
   "source": []
  },
  {
   "cell_type": "code",
   "execution_count": null,
   "metadata": {},
   "outputs": [],
   "source": []
  },
  {
   "cell_type": "code",
   "execution_count": null,
   "metadata": {},
   "outputs": [],
   "source": []
  },
  {
   "cell_type": "code",
   "execution_count": null,
   "metadata": {},
   "outputs": [],
   "source": []
  },
  {
   "cell_type": "code",
   "execution_count": null,
   "metadata": {},
   "outputs": [],
   "source": []
  },
  {
   "cell_type": "code",
   "execution_count": null,
   "metadata": {},
   "outputs": [],
   "source": []
  }
 ],
 "metadata": {
  "kernelspec": {
   "display_name": "Python 3",
   "language": "python",
   "name": "python3"
  },
  "language_info": {
   "codemirror_mode": {
    "name": "ipython",
    "version": 3
   },
   "file_extension": ".py",
   "mimetype": "text/x-python",
   "name": "python",
   "nbconvert_exporter": "python",
   "pygments_lexer": "ipython3",
   "version": "3.8.3"
  }
 },
 "nbformat": 4,
 "nbformat_minor": 4
}
